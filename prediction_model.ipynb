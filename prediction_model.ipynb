{
 "cells": [
  {
   "cell_type": "code",
   "execution_count": 43,
   "metadata": {},
   "outputs": [],
   "source": [
    "import pandas as pd\n",
    "import numpy as np\n",
    "\n",
    "\n",
    "\n",
    "# from scipy.stats import spearmanr, rankdata\n",
    "# from scipy.spatial.distance import pdist, squareform\n",
    "import random\n",
    "import matplotlib.pyplot as plt\n",
    "import os\n",
    "from sklearn.model_selection import train_test_split\n",
    "\n",
    "from sklearn.preprocessing import MinMaxScaler\n",
    "\n",
    "import tensorflow as tf\n",
    "from tensorflow import keras\n",
    "\n",
    "from sklearn.model_selection import KFold"
   ]
  },
  {
   "cell_type": "code",
   "execution_count": 178,
   "metadata": {},
   "outputs": [],
   "source": [
    "def load_data(path):\n",
    "\n",
    "    files = os.listdir(f'{path}\\\\img\\\\data\\\\')\n",
    "    image = np.empty((len(files), 50, 50, 1))\n",
    "    sample = []\n",
    "    id = []\n",
    "    for i in range(len(files)):\n",
    "        if files[i].split('.')[1] == 'txt':\n",
    "            id.append(i)\n",
    "            data = pd.read_csv(f'{path}\\\\img\\\\data\\\\{files[i]}', sep='\\t', engine='c', na_values=['na', '-', ''], header=None, index_col=None)\n",
    "            image[i, :, :, 0] = data.values\n",
    "            sample.append(files[i].split('.txt')[0])\n",
    "    image = image[id, :, :, :]\n",
    "\n",
    "    return image"
   ]
  },
  {
   "cell_type": "code",
   "execution_count": 179,
   "metadata": {},
   "outputs": [],
   "source": [
    "def top_n_miRNA(input_data, n):\n",
    "    temp_df = input_data.copy()\n",
    "    temp_df['sums'] = (temp_df.iloc[:,1:].sum(axis = 1))\n",
    "    temp_df = temp_df.sort_values(by='sums', ascending=False)\n",
    "    return temp_df.iloc[0:n,0:-1]\n"
   ]
  },
  {
   "cell_type": "code",
   "execution_count": 68,
   "metadata": {},
   "outputs": [],
   "source": [
    "# def train_test_data(data_main, test_per = 0.2):\n",
    "#     rand_test_index= np.random.randint(0, data_main.shape[0], np.int64(data_main.shape[0]*test_per))\n",
    "#     test_data = data_main[rand_test_index]\n",
    "#     train_data = np.delete(data_main, rand_test_index, axis = 0)\n",
    "\n",
    "#     return train_data, test_data, rand_test_index\n",
    "\n",
    "\n",
    "# train_data, test_data, test_indx = train_test_data(all_data, test_per=0.1)"
   ]
  },
  {
   "cell_type": "code",
   "execution_count": 180,
   "metadata": {},
   "outputs": [],
   "source": [
    "# data_path = '..\\\\Results\\\\Table_To_Image_Conversion\\\\Test_1\\\\data'\n",
    "data_path = \"D:\\\\Research\\\\data\\\\processed_dataset\" #lab\n",
    "\n",
    "# tissue_type = 'liver'\n",
    "# tissue_type = 'pancreas'\n",
    "# tissue_type = 'kidney'\n",
    "tissue_type = 'heart'\n",
    "# tissue_type = 'brain_myeloid'\n"
   ]
  },
  {
   "cell_type": "code",
   "execution_count": 203,
   "metadata": {},
   "outputs": [
    {
     "data": {
      "text/plain": [
       "(6002, 50, 50, 1)"
      ]
     },
     "execution_count": 203,
     "metadata": {},
     "output_type": "execute_result"
    }
   ],
   "source": [
    "all_data = load_data(path = f'{data_path}\\\\{tissue_type}')\n",
    "all_data.shape"
   ]
  },
  {
   "cell_type": "code",
   "execution_count": 182,
   "metadata": {},
   "outputs": [],
   "source": [
    "all_data = all_data/255"
   ]
  },
  {
   "cell_type": "code",
   "execution_count": 183,
   "metadata": {},
   "outputs": [
    {
     "data": {
      "text/plain": [
       "(224, 6003)"
      ]
     },
     "execution_count": 183,
     "metadata": {},
     "output_type": "execute_result"
    }
   ],
   "source": [
    "y_target = pd.read_csv(f'{data_path}\\\\{tissue_type}\\\\miRNA_bulk.csv')\n",
    "y_target = y_target.drop('Unnamed: 0',axis=1)\n",
    "\n",
    "# y_target = y_target.iloc[:,1:].drop(y_target.index[(y_target.iloc[:,1:].sum(axis = 1) < 1000)]).T\n",
    "\n",
    "\n",
    "y_target.shape\n",
    "\n",
    "# y_target = y_target.iloc[:,1:].T\n",
    "# y_target = y_target.values\n",
    "# y_target\n",
    "\n",
    "# y_target['sums'] = (y_target.iloc[:,1:].sum(axis = 1))\n",
    "# y_target.sort_values(by='sums', ascending=False)\n",
    "# y_target.iloc[0:50,0:-1]\n"
   ]
  },
  {
   "cell_type": "code",
   "execution_count": 224,
   "metadata": {},
   "outputs": [
    {
     "data": {
      "text/html": [
       "<div>\n",
       "<style scoped>\n",
       "    .dataframe tbody tr th:only-of-type {\n",
       "        vertical-align: middle;\n",
       "    }\n",
       "\n",
       "    .dataframe tbody tr th {\n",
       "        vertical-align: top;\n",
       "    }\n",
       "\n",
       "    .dataframe thead th {\n",
       "        text-align: right;\n",
       "    }\n",
       "</style>\n",
       "<table border=\"1\" class=\"dataframe\">\n",
       "  <thead>\n",
       "    <tr style=\"text-align: right;\">\n",
       "      <th></th>\n",
       "      <th>amount</th>\n",
       "    </tr>\n",
       "  </thead>\n",
       "  <tbody>\n",
       "    <tr>\n",
       "      <th>0</th>\n",
       "      <td>0</td>\n",
       "    </tr>\n",
       "    <tr>\n",
       "      <th>1</th>\n",
       "      <td>0</td>\n",
       "    </tr>\n",
       "    <tr>\n",
       "      <th>2</th>\n",
       "      <td>0</td>\n",
       "    </tr>\n",
       "    <tr>\n",
       "      <th>3</th>\n",
       "      <td>21</td>\n",
       "    </tr>\n",
       "    <tr>\n",
       "      <th>4</th>\n",
       "      <td>0</td>\n",
       "    </tr>\n",
       "    <tr>\n",
       "      <th>...</th>\n",
       "      <td>...</td>\n",
       "    </tr>\n",
       "    <tr>\n",
       "      <th>5997</th>\n",
       "      <td>0</td>\n",
       "    </tr>\n",
       "    <tr>\n",
       "      <th>5998</th>\n",
       "      <td>35</td>\n",
       "    </tr>\n",
       "    <tr>\n",
       "      <th>5999</th>\n",
       "      <td>0</td>\n",
       "    </tr>\n",
       "    <tr>\n",
       "      <th>6000</th>\n",
       "      <td>0</td>\n",
       "    </tr>\n",
       "    <tr>\n",
       "      <th>6001</th>\n",
       "      <td>0</td>\n",
       "    </tr>\n",
       "  </tbody>\n",
       "</table>\n",
       "<p>6002 rows × 1 columns</p>\n",
       "</div>"
      ],
      "text/plain": [
       "      amount\n",
       "0          0\n",
       "1          0\n",
       "2          0\n",
       "3         21\n",
       "4          0\n",
       "...      ...\n",
       "5997       0\n",
       "5998      35\n",
       "5999       0\n",
       "6000       0\n",
       "6001       0\n",
       "\n",
       "[6002 rows x 1 columns]"
      ]
     },
     "execution_count": 224,
     "metadata": {},
     "output_type": "execute_result"
    }
   ],
   "source": [
    "top_miRNAs = top_n_miRNA(y_target, 1)\n",
    "top_miRNAs = top_miRNAs.iloc[:,1:].T\n",
    "top_miRNAs = top_miRNAs.rename(columns={top_miRNAs.columns[0]: \"amount\"})\n",
    "sIdex = [i for i in range(top_miRNAs.shape[0])]\n",
    "top_miRNAs = top_miRNAs.set_index([sIdex])\n",
    "top_miRNAs\n"
   ]
  },
  {
   "cell_type": "code",
   "execution_count": 225,
   "metadata": {},
   "outputs": [],
   "source": [
    "# zero_index_r = top_miRNAs.index[top_miRNAs['amount']==0].to_list()\n",
    "# zero_index_r = random.choices(zero_index_r, k=50)\n",
    "\n",
    "# top_miRNAs.drop(zero_index_r, axis=0)"
   ]
  },
  {
   "cell_type": "code",
   "execution_count": 226,
   "metadata": {},
   "outputs": [],
   "source": [
    "# top_miRNAs.shape[0] - top_miRNAs.amount.value_counts()[0]"
   ]
  },
  {
   "cell_type": "code",
   "execution_count": 147,
   "metadata": {},
   "outputs": [],
   "source": [
    "# top_miRNAs.drop(zero_index_r)\n",
    "# all_data_temp = np.delete(all_data, zero_index_r, axis=0)\n",
    "# all_data_temp.shape\n",
    "\n",
    "# nonzero_index_r = top_miRNAs.index[top_miRNAs['amount']>0].to_list() #list of zero indices\n",
    "# zero_index_r = top_miRNAs.index[top_miRNAs['amount']==0].to_list() #list of zero indices\n",
    "# zero_index_r = random.choices(zero_index_r, k=len(nonzero_index_r))\n",
    "# final_ind = nonzero_index_r + zero_index_r\n",
    "\n"
   ]
  },
  {
   "cell_type": "code",
   "execution_count": 227,
   "metadata": {},
   "outputs": [],
   "source": [
    "# top_miRNAs.loc[final_ind]\n",
    "\n",
    "# all_data[final_ind,:,:,:].shape"
   ]
  },
  {
   "cell_type": "code",
   "execution_count": 104,
   "metadata": {},
   "outputs": [],
   "source": [
    "# def balance_data(x_tn, y_lb):\n",
    "#     if(x_tn.shape[0]==y_lb.shape[0]):\n",
    "#         non_zero = y_lb.shape[0] - y_lb.amount.value_counts()[0] #total amount of non zero samples\n",
    "#         zero_index_r = y_lb.index[y_lb['amount']==0].to_list() #list of zero indices\n",
    "#         del_amnt = len(zero_index_r)-non_zero\n",
    "#         zero_index_r = random.choices(zero_index_r, k=del_amnt)\n",
    "#         x_tn_temp = np.delete(x_tn, zero_index_r, axis=0)\n",
    "#         y_lb_temp = y_lb.drop(zero_index_r, axis=0)\n",
    "#         return x_tn_temp, y_lb_temp\n",
    "#     else:\n",
    "#         print('Dataset Shape did not match!!')"
   ]
  },
  {
   "cell_type": "code",
   "execution_count": 228,
   "metadata": {},
   "outputs": [],
   "source": [
    "def balance_data(x_tn, y_lb):\n",
    "    if(x_tn.shape[0]==y_lb.shape[0]):\n",
    "        nonzero_index_r = y_lb.index[y_lb['amount']>0].to_list() #list of zero indices\n",
    "        zero_index_r = y_lb.index[y_lb['amount']==0].to_list() #list of zero indices\n",
    "        zero_index_r = random.choices(zero_index_r, k=len(nonzero_index_r))\n",
    "        final_ind = nonzero_index_r + zero_index_r\n",
    "\n",
    "        x_tn_temp = all_data[final_ind,:,:,:]\n",
    "        y_lb_temp = y_lb.loc[final_ind]\n",
    "        return x_tn_temp, y_lb_temp\n",
    "    else:\n",
    "        print('Dataset Shape did not match!!')"
   ]
  },
  {
   "cell_type": "code",
   "execution_count": 229,
   "metadata": {},
   "outputs": [
    {
     "name": "stdout",
     "output_type": "stream",
     "text": [
      "Dataset Shape did not match!!\n"
     ]
    },
    {
     "ename": "TypeError",
     "evalue": "cannot unpack non-iterable NoneType object",
     "output_type": "error",
     "traceback": [
      "\u001b[1;31m---------------------------------------------------------------------------\u001b[0m",
      "\u001b[1;31mTypeError\u001b[0m                                 Traceback (most recent call last)",
      "\u001b[1;32m~\\AppData\\Local\\Temp\\ipykernel_16832\\751431022.py\u001b[0m in \u001b[0;36m<module>\u001b[1;34m\u001b[0m\n\u001b[1;32m----> 1\u001b[1;33m \u001b[0mall_data\u001b[0m\u001b[1;33m,\u001b[0m \u001b[0mtop_miRNAs\u001b[0m \u001b[1;33m=\u001b[0m \u001b[0mbalance_data\u001b[0m\u001b[1;33m(\u001b[0m\u001b[0mall_data\u001b[0m\u001b[1;33m,\u001b[0m\u001b[0mtop_miRNAs\u001b[0m\u001b[1;33m)\u001b[0m\u001b[1;33m\u001b[0m\u001b[1;33m\u001b[0m\u001b[0m\n\u001b[0m",
      "\u001b[1;31mTypeError\u001b[0m: cannot unpack non-iterable NoneType object"
     ]
    }
   ],
   "source": [
    "all_data, top_miRNAs = balance_data(all_data,top_miRNAs)\n"
   ]
  },
  {
   "cell_type": "code",
   "execution_count": 200,
   "metadata": {},
   "outputs": [
    {
     "data": {
      "text/plain": [
       "(1588, 2)"
      ]
     },
     "execution_count": 200,
     "metadata": {},
     "output_type": "execute_result"
    }
   ],
   "source": []
  },
  {
   "cell_type": "code",
   "execution_count": 169,
   "metadata": {},
   "outputs": [
    {
     "data": {
      "text/plain": [
       "K    843\n",
       "A    269\n",
       "J    171\n",
       "G     50\n",
       "H     46\n",
       "F     44\n",
       "I     40\n",
       "E     39\n",
       "D     33\n",
       "B     29\n",
       "C     24\n",
       "Name: grade, dtype: int64"
      ]
     },
     "execution_count": 169,
     "metadata": {},
     "output_type": "execute_result"
    }
   ],
   "source": [
    "# yttp['grade'].value_counts()"
   ]
  },
  {
   "cell_type": "code",
   "execution_count": 297,
   "metadata": {},
   "outputs": [],
   "source": [
    "# from sklearn.preprocessing import MinMaxScaler\n",
    "# scaler = MinMaxScaler()\n",
    "# scaled = scaler.fit_transform(top_miRNAs.iloc[:,1:])\n",
    "\n",
    "# top_miRNAs = preprocessing.MinMaxScaler(top_miRNAs.iloc[:,1:].T)\n",
    "# top_miRNAs\n",
    "# top_miRNAs = top_miRNAs.iloc[:,1:].values.T"
   ]
  },
  {
   "cell_type": "code",
   "execution_count": 189,
   "metadata": {},
   "outputs": [],
   "source": [
    "# top_miRNAs = top_miRNAs.T\n",
    "# bins = [0, 99, 199, 299, 399, 499, 599, 699, 799, 899, 999]\n",
    "# labels = ['J', 'I', 'H', 'G', 'F', 'E', 'D','C', 'B', 'A',]\n",
    "\n",
    "bins = [0, 1, 19, 29, 39, 49, 59, 69, 79, 89, 99, 999]\n",
    "labels = ['K','J', 'I', 'H', 'G', 'F', 'E', 'D','C', 'B', 'A',]\n",
    "\n",
    "top_miRNAs['grade'] = pd.cut(x = top_miRNAs['amount'], bins = bins, labels = labels, include_lowest = True)"
   ]
  },
  {
   "cell_type": "code",
   "execution_count": 190,
   "metadata": {},
   "outputs": [
    {
     "data": {
      "text/html": [
       "<div>\n",
       "<style scoped>\n",
       "    .dataframe tbody tr th:only-of-type {\n",
       "        vertical-align: middle;\n",
       "    }\n",
       "\n",
       "    .dataframe tbody tr th {\n",
       "        vertical-align: top;\n",
       "    }\n",
       "\n",
       "    .dataframe thead th {\n",
       "        text-align: right;\n",
       "    }\n",
       "</style>\n",
       "<table border=\"1\" class=\"dataframe\">\n",
       "  <thead>\n",
       "    <tr style=\"text-align: right;\">\n",
       "      <th></th>\n",
       "      <th>amount</th>\n",
       "      <th>grade</th>\n",
       "    </tr>\n",
       "  </thead>\n",
       "  <tbody>\n",
       "    <tr>\n",
       "      <th>394</th>\n",
       "      <td>0</td>\n",
       "      <td>K</td>\n",
       "    </tr>\n",
       "    <tr>\n",
       "      <th>1501</th>\n",
       "      <td>0</td>\n",
       "      <td>K</td>\n",
       "    </tr>\n",
       "    <tr>\n",
       "      <th>4353</th>\n",
       "      <td>0</td>\n",
       "      <td>K</td>\n",
       "    </tr>\n",
       "    <tr>\n",
       "      <th>2862</th>\n",
       "      <td>0</td>\n",
       "      <td>K</td>\n",
       "    </tr>\n",
       "    <tr>\n",
       "      <th>3037</th>\n",
       "      <td>0</td>\n",
       "      <td>K</td>\n",
       "    </tr>\n",
       "    <tr>\n",
       "      <th>...</th>\n",
       "      <td>...</td>\n",
       "      <td>...</td>\n",
       "    </tr>\n",
       "    <tr>\n",
       "      <th>4546</th>\n",
       "      <td>465</td>\n",
       "      <td>A</td>\n",
       "    </tr>\n",
       "    <tr>\n",
       "      <th>1645</th>\n",
       "      <td>495</td>\n",
       "      <td>A</td>\n",
       "    </tr>\n",
       "    <tr>\n",
       "      <th>1350</th>\n",
       "      <td>529</td>\n",
       "      <td>A</td>\n",
       "    </tr>\n",
       "    <tr>\n",
       "      <th>226</th>\n",
       "      <td>548</td>\n",
       "      <td>A</td>\n",
       "    </tr>\n",
       "    <tr>\n",
       "      <th>1372</th>\n",
       "      <td>725</td>\n",
       "      <td>A</td>\n",
       "    </tr>\n",
       "  </tbody>\n",
       "</table>\n",
       "<p>1588 rows × 2 columns</p>\n",
       "</div>"
      ],
      "text/plain": [
       "      amount grade\n",
       "394        0     K\n",
       "1501       0     K\n",
       "4353       0     K\n",
       "2862       0     K\n",
       "3037       0     K\n",
       "...      ...   ...\n",
       "4546     465     A\n",
       "1645     495     A\n",
       "1350     529     A\n",
       "226      548     A\n",
       "1372     725     A\n",
       "\n",
       "[1588 rows x 2 columns]"
      ]
     },
     "execution_count": 190,
     "metadata": {},
     "output_type": "execute_result"
    }
   ],
   "source": [
    "top_miRNAs.sort_values(by='amount')\n"
   ]
  },
  {
   "cell_type": "code",
   "execution_count": 191,
   "metadata": {},
   "outputs": [
    {
     "data": {
      "text/plain": [
       "K    843\n",
       "A    269\n",
       "J    171\n",
       "G     50\n",
       "H     46\n",
       "F     44\n",
       "I     40\n",
       "E     39\n",
       "D     33\n",
       "B     29\n",
       "C     24\n",
       "Name: grade, dtype: int64"
      ]
     },
     "execution_count": 191,
     "metadata": {},
     "output_type": "execute_result"
    }
   ],
   "source": [
    "top_miRNAs['grade'].value_counts()\n"
   ]
  },
  {
   "cell_type": "code",
   "execution_count": 192,
   "metadata": {},
   "outputs": [
    {
     "data": {
      "image/png": "[encoded data removed]",
      "text/plain": [
       "<Figure size 640x480 with 1 Axes>"
      ]
     },
     "metadata": {},
     "output_type": "display_data"
    }
   ],
   "source": [
    "quantiles  = top_miRNAs['grade'].value_counts().quantile([0.25, 0.5, 0.75])\n",
    "quantiles.plot(marker='o')\n",
    "plt.xlabel('Quantile')\n",
    "plt.ylabel('Value')\n",
    "plt.title('Quantiles')\n",
    "plt.show()"
   ]
  },
  {
   "cell_type": "code",
   "execution_count": 214,
   "metadata": {},
   "outputs": [
    {
     "name": "stdout",
     "output_type": "stream",
     "text": [
      "None\n"
     ]
    }
   ],
   "source": [
    "# X_train, X_test, y_train, y_test = train_test_split(all_data, y_target, test_size=0.1, random_state=5)\n",
    "\n",
    "# print(f'X_train: {X_train.shape}')\n",
    "# print(f'X_test: {X_test.shape}')\n",
    "# print(f'y_train: {y_train.shape}')\n",
    "# print(f'y_test: {y_test.shape}')\n",
    "\n"
   ]
  },
  {
   "cell_type": "code",
   "execution_count": 217,
   "metadata": {},
   "outputs": [],
   "source": [
    "for train_indices, test_indices in kfold.split(all_data):\n",
    "    y_train, y_val = top_miRNAs.values[train_indices], top_miRNAs.values[test_indices]\n"
   ]
  },
  {
   "cell_type": "code",
   "execution_count": 221,
   "metadata": {},
   "outputs": [
    {
     "data": {
      "text/plain": [
       "array([21, 32, 93, ...,  0,  0,  0], dtype=int64)"
      ]
     },
     "execution_count": 221,
     "metadata": {},
     "output_type": "execute_result"
    }
   ],
   "source": [
    "top_miRNAs.amount.values\n"
   ]
  },
  {
   "cell_type": "code",
   "execution_count": 99,
   "metadata": {},
   "outputs": [],
   "source": [
    "\n",
    "# def runCNN(train_x_input, train_y_input, val_x, val_y, epoch_num = 10, batch_num = 32):\n",
    "# # Define the model\n",
    "#     model = keras.Sequential()\n",
    "\n",
    "#     # Add the layers to the model\n",
    "#     model.add(keras.layers.Conv2D(64, (3, 3), activation='relu', input_shape=(X_train.shape[1], X_train.shape[2], X_train.shape[3])))\n",
    "#     model.add(keras.layers.BatchNormalization())\n",
    "#     model.add(keras.layers.MaxPooling2D(pool_size=(2, 2)))\n",
    "#     model.add(keras.layers.Conv2D(32, (3, 3), activation='relu'))\n",
    "#     model.add(keras.layers.BatchNormalization())\n",
    "#     model.add(keras.layers.MaxPooling2D(pool_size=(2, 2)))\n",
    "#     model.add(keras.layers.Conv2D(16, (3, 3), activation='relu'))\n",
    "#     model.add(keras.layers.BatchNormalization())\n",
    "\n",
    "#     # Flatten the output before passing it to the fully connected layers\n",
    "#     model.add(keras.layers.Flatten())\n",
    "\n",
    "#     # Add fully connected layers\n",
    "#     model.add(keras.layers.Dense(128, activation='relu'))\n",
    "#     model.add(keras.layers.Dense(64, activation='relu'))\n",
    "#     model.add(keras.layers.Dense(train_y_input.shape[1], activation='softmax'))\n",
    "\n",
    "#     # Compile the model\n",
    "#     model.compile(optimizer='Adam',\n",
    "#                 loss='mse',\n",
    "#                 metrics=['accuracy'])\n",
    "\n",
    "#     # Print the model summary\n",
    "#     print(model.summary())\n",
    "\n",
    "#     history = model.fit(train_x_input, train_y_input, epochs=epoch_num, batch_size=batch_num, validation_data = (val_x, val_y))\n",
    "\n",
    "#     return model, history\n"
   ]
  },
  {
   "cell_type": "code",
   "execution_count": 208,
   "metadata": {},
   "outputs": [],
   "source": [
    "def plot_history(his, tissue_type = ''):\n",
    "    plt.plot(his.history['accuracy'])\n",
    "    plt.plot(his.history['val_accuracy'])\n",
    "    plt.title(f'Model Accuracy: {tissue_type}')\n",
    "    plt.xlabel('Epoch')\n",
    "    plt.ylabel('Accuracy')\n",
    "    plt.legend(['Train', 'Validation'], loc='upper left')\n",
    "    plt.show()\n",
    "\n",
    "    plt.plot(his.history['loss'])\n",
    "    plt.plot(his.history['val_loss'])\n",
    "    plt.title(f'Model Loss: {tissue_type}')\n",
    "    plt.xlabel('Epoch')\n",
    "    plt.ylabel('Loss')\n",
    "    plt.legend(['Train', 'Validation'], loc='upper left')\n",
    "    plt.show()\n"
   ]
  },
  {
   "cell_type": "code",
   "execution_count": 222,
   "metadata": {},
   "outputs": [
    {
     "name": "stdout",
     "output_type": "stream",
     "text": [
      "Model: \"sequential_4\"\n",
      "_________________________________________________________________\n",
      " Layer (type)                Output Shape              Param #   \n",
      "=================================================================\n",
      " conv2d_12 (Conv2D)          (None, 48, 48, 64)        640       \n",
      "                                                                 \n",
      " batch_normalization_12 (Bat  (None, 48, 48, 64)       256       \n",
      " chNormalization)                                                \n",
      "                                                                 \n",
      " max_pooling2d_8 (MaxPooling  (None, 24, 24, 64)       0         \n",
      " 2D)                                                             \n",
      "                                                                 \n",
      " conv2d_13 (Conv2D)          (None, 22, 22, 32)        18464     \n",
      "                                                                 \n",
      " batch_normalization_13 (Bat  (None, 22, 22, 32)       128       \n",
      " chNormalization)                                                \n",
      "                                                                 \n",
      " max_pooling2d_9 (MaxPooling  (None, 11, 11, 32)       0         \n",
      " 2D)                                                             \n",
      "                                                                 \n",
      " conv2d_14 (Conv2D)          (None, 9, 9, 16)          4624      \n",
      "                                                                 \n",
      " batch_normalization_14 (Bat  (None, 9, 9, 16)         64        \n",
      " chNormalization)                                                \n",
      "                                                                 \n",
      " flatten_4 (Flatten)         (None, 1296)              0         \n",
      "                                                                 \n",
      " dense_12 (Dense)            (None, 128)               166016    \n",
      "                                                                 \n",
      " dense_13 (Dense)            (None, 64)                8256      \n",
      "                                                                 \n",
      " dense_14 (Dense)            (None, 1)                 65        \n",
      "                                                                 \n",
      "=================================================================\n",
      "Total params: 198,513\n",
      "Trainable params: 198,289\n",
      "Non-trainable params: 224\n",
      "_________________________________________________________________\n",
      "None\n"
     ]
    }
   ],
   "source": [
    "model = keras.Sequential()\n",
    "\n",
    "# Add the layers to the model\n",
    "model.add(keras.layers.Conv2D(64, (3, 3), activation='relu', input_shape=(all_data.shape[1], all_data.shape[2], all_data.shape[3])))\n",
    "model.add(keras.layers.BatchNormalization())\n",
    "model.add(keras.layers.MaxPooling2D(pool_size=(2, 2)))\n",
    "model.add(keras.layers.Conv2D(32, (3, 3), activation='relu'))\n",
    "model.add(keras.layers.BatchNormalization())\n",
    "model.add(keras.layers.MaxPooling2D(pool_size=(2, 2)))\n",
    "model.add(keras.layers.Conv2D(16, (3, 3), activation='relu'))\n",
    "model.add(keras.layers.BatchNormalization())\n",
    "\n",
    "# Flatten the output before passing it to the fully connected layers\n",
    "model.add(keras.layers.Flatten())\n",
    "\n",
    "# Add fully connected layers\n",
    "model.add(keras.layers.Dense(128, activation='relu'))\n",
    "model.add(keras.layers.Dense(64, activation='relu'))\n",
    "model.add(keras.layers.Dense(1, activation='softmax'))\n",
    "\n",
    "# Compile the model\n",
    "model.compile(optimizer='Adam',\n",
    "            loss='mse',\n",
    "            metrics=['accuracy'])\n",
    "\n",
    "# Print the model summary\n",
    "print(model.summary())\n",
    "\n",
    "\n"
   ]
  },
  {
   "cell_type": "code",
   "execution_count": 89,
   "metadata": {},
   "outputs": [],
   "source": [
    "# model_pan, history_pan = runCNN(train_x_input=X_train, train_y_input=y_train, epoch_num=100, val_x=X_test,  val_y=y_test)"
   ]
  },
  {
   "cell_type": "code",
   "execution_count": 100,
   "metadata": {},
   "outputs": [],
   "source": [
    "# plot_history(history_pan, tissue_type=tissue_type)"
   ]
  },
  {
   "cell_type": "code",
   "execution_count": 223,
   "metadata": {},
   "outputs": [
    {
     "name": "stdout",
     "output_type": "stream",
     "text": [
      "Epoch 1/50\n",
      "40/40 [==============================] - 1s 24ms/step - loss: 8386.2393 - accuracy: 0.0307 - val_loss: 7583.1416 - val_accuracy: 0.0314\n",
      "Epoch 2/50\n",
      "40/40 [==============================] - 1s 17ms/step - loss: 8386.2393 - accuracy: 0.0307 - val_loss: 7583.1416 - val_accuracy: 0.0314\n",
      "Epoch 3/50\n",
      "40/40 [==============================] - 1s 17ms/step - loss: 8386.2393 - accuracy: 0.0307 - val_loss: 7583.1416 - val_accuracy: 0.0314\n",
      "Epoch 4/50\n",
      "40/40 [==============================] - 1s 17ms/step - loss: 8386.2393 - accuracy: 0.0307 - val_loss: 7583.1416 - val_accuracy: 0.0314\n",
      "Epoch 5/50\n",
      "40/40 [==============================] - 1s 16ms/step - loss: 8386.2393 - accuracy: 0.0307 - val_loss: 7583.1416 - val_accuracy: 0.0314\n",
      "Epoch 6/50\n",
      "40/40 [==============================] - 1s 17ms/step - loss: 8386.2393 - accuracy: 0.0307 - val_loss: 7583.1416 - val_accuracy: 0.0314\n",
      "Epoch 7/50\n",
      "40/40 [==============================] - 1s 16ms/step - loss: 8386.2393 - accuracy: 0.0307 - val_loss: 7583.1416 - val_accuracy: 0.0314\n",
      "Epoch 8/50\n",
      "40/40 [==============================] - 1s 16ms/step - loss: 8386.2393 - accuracy: 0.0307 - val_loss: 7583.1416 - val_accuracy: 0.0314\n",
      "Epoch 9/50\n",
      "40/40 [==============================] - 2s 41ms/step - loss: 8386.2393 - accuracy: 0.0307 - val_loss: 7583.1416 - val_accuracy: 0.0314\n",
      "Epoch 10/50\n",
      "40/40 [==============================] - 1s 37ms/step - loss: 8386.2393 - accuracy: 0.0307 - val_loss: 7583.1416 - val_accuracy: 0.0314\n",
      "Epoch 11/50\n",
      "40/40 [==============================] - 1s 35ms/step - loss: 8386.2393 - accuracy: 0.0307 - val_loss: 7583.1416 - val_accuracy: 0.0314\n",
      "Epoch 12/50\n",
      "40/40 [==============================] - 1s 22ms/step - loss: 8386.2393 - accuracy: 0.0307 - val_loss: 7583.1416 - val_accuracy: 0.0314\n",
      "Epoch 13/50\n",
      "40/40 [==============================] - 1s 17ms/step - loss: 8386.2393 - accuracy: 0.0307 - val_loss: 7583.1416 - val_accuracy: 0.0314\n",
      "Epoch 14/50\n",
      "40/40 [==============================] - 1s 18ms/step - loss: 8386.2393 - accuracy: 0.0307 - val_loss: 7583.1416 - val_accuracy: 0.0314\n",
      "Epoch 15/50\n",
      "40/40 [==============================] - 1s 22ms/step - loss: 8386.2393 - accuracy: 0.0307 - val_loss: 7583.1416 - val_accuracy: 0.0314\n",
      "Epoch 16/50\n",
      "40/40 [==============================] - 1s 21ms/step - loss: 8386.2393 - accuracy: 0.0307 - val_loss: 7583.1416 - val_accuracy: 0.0314\n",
      "Epoch 17/50\n",
      "40/40 [==============================] - 1s 17ms/step - loss: 8386.2393 - accuracy: 0.0307 - val_loss: 7583.1416 - val_accuracy: 0.0314\n",
      "Epoch 18/50\n",
      "40/40 [==============================] - 1s 17ms/step - loss: 8386.2393 - accuracy: 0.0307 - val_loss: 7583.1416 - val_accuracy: 0.0314\n",
      "Epoch 19/50\n",
      "40/40 [==============================] - 1s 17ms/step - loss: 8386.2393 - accuracy: 0.0307 - val_loss: 7583.1416 - val_accuracy: 0.0314\n",
      "Epoch 20/50\n",
      "40/40 [==============================] - 1s 17ms/step - loss: 8386.2393 - accuracy: 0.0307 - val_loss: 7583.1416 - val_accuracy: 0.0314\n",
      "Epoch 21/50\n",
      "40/40 [==============================] - 1s 20ms/step - loss: 8386.2393 - accuracy: 0.0307 - val_loss: 7583.1416 - val_accuracy: 0.0314\n",
      "Epoch 22/50\n",
      "40/40 [==============================] - 1s 17ms/step - loss: 8386.2393 - accuracy: 0.0307 - val_loss: 7583.1416 - val_accuracy: 0.0314\n",
      "Epoch 23/50\n",
      "40/40 [==============================] - 1s 16ms/step - loss: 8386.2393 - accuracy: 0.0307 - val_loss: 7583.1416 - val_accuracy: 0.0314\n",
      "Epoch 24/50\n",
      "40/40 [==============================] - 1s 17ms/step - loss: 8386.2393 - accuracy: 0.0307 - val_loss: 7583.1416 - val_accuracy: 0.0314\n",
      "Epoch 25/50\n",
      "40/40 [==============================] - 1s 17ms/step - loss: 8386.2393 - accuracy: 0.0307 - val_loss: 7583.1416 - val_accuracy: 0.0314\n",
      "Epoch 26/50\n",
      "40/40 [==============================] - 1s 17ms/step - loss: 8386.2393 - accuracy: 0.0307 - val_loss: 7583.1416 - val_accuracy: 0.0314\n",
      "Epoch 27/50\n",
      "40/40 [==============================] - 1s 17ms/step - loss: 8386.2393 - accuracy: 0.0307 - val_loss: 7583.1416 - val_accuracy: 0.0314\n",
      "Epoch 28/50\n",
      "28/40 [====================>.........] - ETA: 0s - loss: 8743.0596 - accuracy: 0.0279"
     ]
    },
    {
     "ename": "KeyboardInterrupt",
     "evalue": "",
     "output_type": "error",
     "traceback": [
      "\u001b[1;31m---------------------------------------------------------------------------\u001b[0m",
      "\u001b[1;31mKeyboardInterrupt\u001b[0m                         Traceback (most recent call last)",
      "\u001b[1;32m~\\AppData\\Local\\Temp\\ipykernel_16832\\1963674158.py\u001b[0m in \u001b[0;36m<module>\u001b[1;34m\u001b[0m\n\u001b[0;32m     15\u001b[0m     \u001b[0my_train\u001b[0m\u001b[1;33m,\u001b[0m \u001b[0my_val\u001b[0m \u001b[1;33m=\u001b[0m \u001b[0my_label\u001b[0m\u001b[1;33m[\u001b[0m\u001b[0mtrain_indices\u001b[0m\u001b[1;33m]\u001b[0m\u001b[1;33m,\u001b[0m \u001b[0my_label\u001b[0m\u001b[1;33m[\u001b[0m\u001b[0mtest_indices\u001b[0m\u001b[1;33m]\u001b[0m\u001b[1;33m\u001b[0m\u001b[1;33m\u001b[0m\u001b[0m\n\u001b[0;32m     16\u001b[0m \u001b[1;33m\u001b[0m\u001b[0m\n\u001b[1;32m---> 17\u001b[1;33m     \u001b[0mhistory\u001b[0m \u001b[1;33m=\u001b[0m \u001b[0mmodel\u001b[0m\u001b[1;33m.\u001b[0m\u001b[0mfit\u001b[0m\u001b[1;33m(\u001b[0m\u001b[0mX_train\u001b[0m\u001b[1;33m,\u001b[0m \u001b[0my_train\u001b[0m\u001b[1;33m,\u001b[0m \u001b[0mepochs\u001b[0m\u001b[1;33m=\u001b[0m\u001b[0mepoch_num\u001b[0m\u001b[1;33m,\u001b[0m \u001b[0mbatch_size\u001b[0m\u001b[1;33m=\u001b[0m\u001b[0mbatch_num\u001b[0m\u001b[1;33m,\u001b[0m \u001b[0mvalidation_data\u001b[0m \u001b[1;33m=\u001b[0m \u001b[1;33m(\u001b[0m\u001b[0mX_val\u001b[0m\u001b[1;33m,\u001b[0m \u001b[0my_val\u001b[0m\u001b[1;33m)\u001b[0m\u001b[1;33m)\u001b[0m\u001b[1;33m\u001b[0m\u001b[1;33m\u001b[0m\u001b[0m\n\u001b[0m\u001b[0;32m     18\u001b[0m \u001b[1;33m\u001b[0m\u001b[0m\n\u001b[0;32m     19\u001b[0m     \u001b[0m_\u001b[0m\u001b[1;33m,\u001b[0m \u001b[0mscore\u001b[0m \u001b[1;33m=\u001b[0m \u001b[0mmodel\u001b[0m\u001b[1;33m.\u001b[0m\u001b[0mevaluate\u001b[0m\u001b[1;33m(\u001b[0m\u001b[0mX_val\u001b[0m\u001b[1;33m,\u001b[0m \u001b[0my_val\u001b[0m\u001b[1;33m)\u001b[0m\u001b[1;33m\u001b[0m\u001b[1;33m\u001b[0m\u001b[0m\n",
      "\u001b[1;32mc:\\Users\\fa947945\\Anaconda3\\lib\\site-packages\\keras\\utils\\traceback_utils.py\u001b[0m in \u001b[0;36merror_handler\u001b[1;34m(*args, **kwargs)\u001b[0m\n\u001b[0;32m     62\u001b[0m     \u001b[0mfiltered_tb\u001b[0m \u001b[1;33m=\u001b[0m \u001b[1;32mNone\u001b[0m\u001b[1;33m\u001b[0m\u001b[1;33m\u001b[0m\u001b[0m\n\u001b[0;32m     63\u001b[0m     \u001b[1;32mtry\u001b[0m\u001b[1;33m:\u001b[0m\u001b[1;33m\u001b[0m\u001b[1;33m\u001b[0m\u001b[0m\n\u001b[1;32m---> 64\u001b[1;33m       \u001b[1;32mreturn\u001b[0m \u001b[0mfn\u001b[0m\u001b[1;33m(\u001b[0m\u001b[1;33m*\u001b[0m\u001b[0margs\u001b[0m\u001b[1;33m,\u001b[0m \u001b[1;33m**\u001b[0m\u001b[0mkwargs\u001b[0m\u001b[1;33m)\u001b[0m\u001b[1;33m\u001b[0m\u001b[1;33m\u001b[0m\u001b[0m\n\u001b[0m\u001b[0;32m     65\u001b[0m     \u001b[1;32mexcept\u001b[0m \u001b[0mException\u001b[0m \u001b[1;32mas\u001b[0m \u001b[0me\u001b[0m\u001b[1;33m:\u001b[0m  \u001b[1;31m# pylint: disable=broad-except\u001b[0m\u001b[1;33m\u001b[0m\u001b[1;33m\u001b[0m\u001b[0m\n\u001b[0;32m     66\u001b[0m       \u001b[0mfiltered_tb\u001b[0m \u001b[1;33m=\u001b[0m \u001b[0m_process_traceback_frames\u001b[0m\u001b[1;33m(\u001b[0m\u001b[0me\u001b[0m\u001b[1;33m.\u001b[0m\u001b[0m__traceback__\u001b[0m\u001b[1;33m)\u001b[0m\u001b[1;33m\u001b[0m\u001b[1;33m\u001b[0m\u001b[0m\n",
      "\u001b[1;32mc:\\Users\\fa947945\\Anaconda3\\lib\\site-packages\\keras\\engine\\training.py\u001b[0m in \u001b[0;36mfit\u001b[1;34m(self, x, y, batch_size, epochs, verbose, callbacks, validation_split, validation_data, shuffle, class_weight, sample_weight, initial_epoch, steps_per_epoch, validation_steps, validation_batch_size, validation_freq, max_queue_size, workers, use_multiprocessing)\u001b[0m\n\u001b[0;32m   1407\u001b[0m                 _r=1):\n\u001b[0;32m   1408\u001b[0m               \u001b[0mcallbacks\u001b[0m\u001b[1;33m.\u001b[0m\u001b[0mon_train_batch_begin\u001b[0m\u001b[1;33m(\u001b[0m\u001b[0mstep\u001b[0m\u001b[1;33m)\u001b[0m\u001b[1;33m\u001b[0m\u001b[1;33m\u001b[0m\u001b[0m\n\u001b[1;32m-> 1409\u001b[1;33m               \u001b[0mtmp_logs\u001b[0m \u001b[1;33m=\u001b[0m \u001b[0mself\u001b[0m\u001b[1;33m.\u001b[0m\u001b[0mtrain_function\u001b[0m\u001b[1;33m(\u001b[0m\u001b[0miterator\u001b[0m\u001b[1;33m)\u001b[0m\u001b[1;33m\u001b[0m\u001b[1;33m\u001b[0m\u001b[0m\n\u001b[0m\u001b[0;32m   1410\u001b[0m               \u001b[1;32mif\u001b[0m \u001b[0mdata_handler\u001b[0m\u001b[1;33m.\u001b[0m\u001b[0mshould_sync\u001b[0m\u001b[1;33m:\u001b[0m\u001b[1;33m\u001b[0m\u001b[1;33m\u001b[0m\u001b[0m\n\u001b[0;32m   1411\u001b[0m                 \u001b[0mcontext\u001b[0m\u001b[1;33m.\u001b[0m\u001b[0masync_wait\u001b[0m\u001b[1;33m(\u001b[0m\u001b[1;33m)\u001b[0m\u001b[1;33m\u001b[0m\u001b[1;33m\u001b[0m\u001b[0m\n",
      "\u001b[1;32mc:\\Users\\fa947945\\Anaconda3\\lib\\site-packages\\tensorflow\\python\\util\\traceback_utils.py\u001b[0m in \u001b[0;36merror_handler\u001b[1;34m(*args, **kwargs)\u001b[0m\n\u001b[0;32m    148\u001b[0m     \u001b[0mfiltered_tb\u001b[0m \u001b[1;33m=\u001b[0m \u001b[1;32mNone\u001b[0m\u001b[1;33m\u001b[0m\u001b[1;33m\u001b[0m\u001b[0m\n\u001b[0;32m    149\u001b[0m     \u001b[1;32mtry\u001b[0m\u001b[1;33m:\u001b[0m\u001b[1;33m\u001b[0m\u001b[1;33m\u001b[0m\u001b[0m\n\u001b[1;32m--> 150\u001b[1;33m       \u001b[1;32mreturn\u001b[0m \u001b[0mfn\u001b[0m\u001b[1;33m(\u001b[0m\u001b[1;33m*\u001b[0m\u001b[0margs\u001b[0m\u001b[1;33m,\u001b[0m \u001b[1;33m**\u001b[0m\u001b[0mkwargs\u001b[0m\u001b[1;33m)\u001b[0m\u001b[1;33m\u001b[0m\u001b[1;33m\u001b[0m\u001b[0m\n\u001b[0m\u001b[0;32m    151\u001b[0m     \u001b[1;32mexcept\u001b[0m \u001b[0mException\u001b[0m \u001b[1;32mas\u001b[0m \u001b[0me\u001b[0m\u001b[1;33m:\u001b[0m\u001b[1;33m\u001b[0m\u001b[1;33m\u001b[0m\u001b[0m\n\u001b[0;32m    152\u001b[0m       \u001b[0mfiltered_tb\u001b[0m \u001b[1;33m=\u001b[0m \u001b[0m_process_traceback_frames\u001b[0m\u001b[1;33m(\u001b[0m\u001b[0me\u001b[0m\u001b[1;33m.\u001b[0m\u001b[0m__traceback__\u001b[0m\u001b[1;33m)\u001b[0m\u001b[1;33m\u001b[0m\u001b[1;33m\u001b[0m\u001b[0m\n",
      "\u001b[1;32mc:\\Users\\fa947945\\Anaconda3\\lib\\site-packages\\tensorflow\\python\\eager\\def_function.py\u001b[0m in \u001b[0;36m__call__\u001b[1;34m(self, *args, **kwds)\u001b[0m\n\u001b[0;32m    913\u001b[0m \u001b[1;33m\u001b[0m\u001b[0m\n\u001b[0;32m    914\u001b[0m       \u001b[1;32mwith\u001b[0m \u001b[0mOptionalXlaContext\u001b[0m\u001b[1;33m(\u001b[0m\u001b[0mself\u001b[0m\u001b[1;33m.\u001b[0m\u001b[0m_jit_compile\u001b[0m\u001b[1;33m)\u001b[0m\u001b[1;33m:\u001b[0m\u001b[1;33m\u001b[0m\u001b[1;33m\u001b[0m\u001b[0m\n\u001b[1;32m--> 915\u001b[1;33m         \u001b[0mresult\u001b[0m \u001b[1;33m=\u001b[0m \u001b[0mself\u001b[0m\u001b[1;33m.\u001b[0m\u001b[0m_call\u001b[0m\u001b[1;33m(\u001b[0m\u001b[1;33m*\u001b[0m\u001b[0margs\u001b[0m\u001b[1;33m,\u001b[0m \u001b[1;33m**\u001b[0m\u001b[0mkwds\u001b[0m\u001b[1;33m)\u001b[0m\u001b[1;33m\u001b[0m\u001b[1;33m\u001b[0m\u001b[0m\n\u001b[0m\u001b[0;32m    916\u001b[0m \u001b[1;33m\u001b[0m\u001b[0m\n\u001b[0;32m    917\u001b[0m       \u001b[0mnew_tracing_count\u001b[0m \u001b[1;33m=\u001b[0m \u001b[0mself\u001b[0m\u001b[1;33m.\u001b[0m\u001b[0mexperimental_get_tracing_count\u001b[0m\u001b[1;33m(\u001b[0m\u001b[1;33m)\u001b[0m\u001b[1;33m\u001b[0m\u001b[1;33m\u001b[0m\u001b[0m\n",
      "\u001b[1;32mc:\\Users\\fa947945\\Anaconda3\\lib\\site-packages\\tensorflow\\python\\eager\\def_function.py\u001b[0m in \u001b[0;36m_call\u001b[1;34m(self, *args, **kwds)\u001b[0m\n\u001b[0;32m    945\u001b[0m       \u001b[1;31m# In this case we have created variables on the first call, so we run the\u001b[0m\u001b[1;33m\u001b[0m\u001b[1;33m\u001b[0m\u001b[0m\n\u001b[0;32m    946\u001b[0m       \u001b[1;31m# defunned version which is guaranteed to never create variables.\u001b[0m\u001b[1;33m\u001b[0m\u001b[1;33m\u001b[0m\u001b[0m\n\u001b[1;32m--> 947\u001b[1;33m       \u001b[1;32mreturn\u001b[0m \u001b[0mself\u001b[0m\u001b[1;33m.\u001b[0m\u001b[0m_stateless_fn\u001b[0m\u001b[1;33m(\u001b[0m\u001b[1;33m*\u001b[0m\u001b[0margs\u001b[0m\u001b[1;33m,\u001b[0m \u001b[1;33m**\u001b[0m\u001b[0mkwds\u001b[0m\u001b[1;33m)\u001b[0m  \u001b[1;31m# pylint: disable=not-callable\u001b[0m\u001b[1;33m\u001b[0m\u001b[1;33m\u001b[0m\u001b[0m\n\u001b[0m\u001b[0;32m    948\u001b[0m     \u001b[1;32melif\u001b[0m \u001b[0mself\u001b[0m\u001b[1;33m.\u001b[0m\u001b[0m_stateful_fn\u001b[0m \u001b[1;32mis\u001b[0m \u001b[1;32mnot\u001b[0m \u001b[1;32mNone\u001b[0m\u001b[1;33m:\u001b[0m\u001b[1;33m\u001b[0m\u001b[1;33m\u001b[0m\u001b[0m\n\u001b[0;32m    949\u001b[0m       \u001b[1;31m# Release the lock early so that multiple threads can perform the call\u001b[0m\u001b[1;33m\u001b[0m\u001b[1;33m\u001b[0m\u001b[0m\n",
      "\u001b[1;32mc:\\Users\\fa947945\\Anaconda3\\lib\\site-packages\\tensorflow\\python\\eager\\function.py\u001b[0m in \u001b[0;36m__call__\u001b[1;34m(self, *args, **kwargs)\u001b[0m\n\u001b[0;32m   2451\u001b[0m       (graph_function,\n\u001b[0;32m   2452\u001b[0m        filtered_flat_args) = self._maybe_define_function(args, kwargs)\n\u001b[1;32m-> 2453\u001b[1;33m     return graph_function._call_flat(\n\u001b[0m\u001b[0;32m   2454\u001b[0m         filtered_flat_args, captured_inputs=graph_function.captured_inputs)  # pylint: disable=protected-access\n\u001b[0;32m   2455\u001b[0m \u001b[1;33m\u001b[0m\u001b[0m\n",
      "\u001b[1;32mc:\\Users\\fa947945\\Anaconda3\\lib\\site-packages\\tensorflow\\python\\eager\\function.py\u001b[0m in \u001b[0;36m_call_flat\u001b[1;34m(self, args, captured_inputs, cancellation_manager)\u001b[0m\n\u001b[0;32m   1858\u001b[0m         and executing_eagerly):\n\u001b[0;32m   1859\u001b[0m       \u001b[1;31m# No tape is watching; skip to running the function.\u001b[0m\u001b[1;33m\u001b[0m\u001b[1;33m\u001b[0m\u001b[0m\n\u001b[1;32m-> 1860\u001b[1;33m       return self._build_call_outputs(self._inference_function.call(\n\u001b[0m\u001b[0;32m   1861\u001b[0m           ctx, args, cancellation_manager=cancellation_manager))\n\u001b[0;32m   1862\u001b[0m     forward_backward = self._select_forward_and_backward_functions(\n",
      "\u001b[1;32mc:\\Users\\fa947945\\Anaconda3\\lib\\site-packages\\tensorflow\\python\\eager\\function.py\u001b[0m in \u001b[0;36mcall\u001b[1;34m(self, ctx, args, cancellation_manager)\u001b[0m\n\u001b[0;32m    495\u001b[0m       \u001b[1;32mwith\u001b[0m \u001b[0m_InterpolateFunctionError\u001b[0m\u001b[1;33m(\u001b[0m\u001b[0mself\u001b[0m\u001b[1;33m)\u001b[0m\u001b[1;33m:\u001b[0m\u001b[1;33m\u001b[0m\u001b[1;33m\u001b[0m\u001b[0m\n\u001b[0;32m    496\u001b[0m         \u001b[1;32mif\u001b[0m \u001b[0mcancellation_manager\u001b[0m \u001b[1;32mis\u001b[0m \u001b[1;32mNone\u001b[0m\u001b[1;33m:\u001b[0m\u001b[1;33m\u001b[0m\u001b[1;33m\u001b[0m\u001b[0m\n\u001b[1;32m--> 497\u001b[1;33m           outputs = execute.execute(\n\u001b[0m\u001b[0;32m    498\u001b[0m               \u001b[0mstr\u001b[0m\u001b[1;33m(\u001b[0m\u001b[0mself\u001b[0m\u001b[1;33m.\u001b[0m\u001b[0msignature\u001b[0m\u001b[1;33m.\u001b[0m\u001b[0mname\u001b[0m\u001b[1;33m)\u001b[0m\u001b[1;33m,\u001b[0m\u001b[1;33m\u001b[0m\u001b[1;33m\u001b[0m\u001b[0m\n\u001b[0;32m    499\u001b[0m               \u001b[0mnum_outputs\u001b[0m\u001b[1;33m=\u001b[0m\u001b[0mself\u001b[0m\u001b[1;33m.\u001b[0m\u001b[0m_num_outputs\u001b[0m\u001b[1;33m,\u001b[0m\u001b[1;33m\u001b[0m\u001b[1;33m\u001b[0m\u001b[0m\n",
      "\u001b[1;32mc:\\Users\\fa947945\\Anaconda3\\lib\\site-packages\\tensorflow\\python\\eager\\execute.py\u001b[0m in \u001b[0;36mquick_execute\u001b[1;34m(op_name, num_outputs, inputs, attrs, ctx, name)\u001b[0m\n\u001b[0;32m     52\u001b[0m   \u001b[1;32mtry\u001b[0m\u001b[1;33m:\u001b[0m\u001b[1;33m\u001b[0m\u001b[1;33m\u001b[0m\u001b[0m\n\u001b[0;32m     53\u001b[0m     \u001b[0mctx\u001b[0m\u001b[1;33m.\u001b[0m\u001b[0mensure_initialized\u001b[0m\u001b[1;33m(\u001b[0m\u001b[1;33m)\u001b[0m\u001b[1;33m\u001b[0m\u001b[1;33m\u001b[0m\u001b[0m\n\u001b[1;32m---> 54\u001b[1;33m     tensors = pywrap_tfe.TFE_Py_Execute(ctx._handle, device_name, op_name,\n\u001b[0m\u001b[0;32m     55\u001b[0m                                         inputs, attrs, num_outputs)\n\u001b[0;32m     56\u001b[0m   \u001b[1;32mexcept\u001b[0m \u001b[0mcore\u001b[0m\u001b[1;33m.\u001b[0m\u001b[0m_NotOkStatusException\u001b[0m \u001b[1;32mas\u001b[0m \u001b[0me\u001b[0m\u001b[1;33m:\u001b[0m\u001b[1;33m\u001b[0m\u001b[1;33m\u001b[0m\u001b[0m\n",
      "\u001b[1;31mKeyboardInterrupt\u001b[0m: "
     ]
    }
   ],
   "source": [
    "num_folds = 5\n",
    "fold_scores = []\n",
    "epoch_num = 50\n",
    "batch_num = 32\n",
    "\n",
    "kfold = KFold(n_splits=num_folds, shuffle=True)\n",
    "\n",
    "y_label = top_miRNAs.amount.values\n",
    "\n",
    "for train_indices, test_indices in kfold.split(all_data):\n",
    "    # print('Train: %s | test: %s' % (train_indices, test_indices))\n",
    "\n",
    "\n",
    "    X_train, X_val = all_data[train_indices], all_data[test_indices]\n",
    "    y_train, y_val = y_label[train_indices], y_label[test_indices]\n",
    "\n",
    "    history = model.fit(X_train, y_train, epochs=epoch_num, batch_size=batch_num, validation_data = (X_val, y_val))\n",
    "\n",
    "    _, score = model.evaluate(X_val, y_val)\n",
    "    fold_scores.append(score)\n"
   ]
  },
  {
   "cell_type": "code",
   "execution_count": 59,
   "metadata": {},
   "outputs": [
    {
     "data": {
      "text/plain": [
       "[0.09741881489753723,\n",
       " 0.0741049125790596,\n",
       " 0.11916666477918625,\n",
       " 0.1341666728258133,\n",
       " 0.33500000834465027]"
      ]
     },
     "execution_count": 59,
     "metadata": {},
     "output_type": "execute_result"
    }
   ],
   "source": [
    "fold_scores"
   ]
  },
  {
   "cell_type": "code",
   "execution_count": null,
   "metadata": {},
   "outputs": [],
   "source": []
  }
 ],
 "metadata": {
  "kernelspec": {
   "display_name": "base",
   "language": "python",
   "name": "python3"
  },
  "language_info": {
   "codemirror_mode": {
    "name": "ipython",
    "version": 3
   },
   "file_extension": ".py",
   "mimetype": "text/x-python",
   "name": "python",
   "nbconvert_exporter": "python",
   "pygments_lexer": "ipython3",
   "version": "3.9.13"
  },
  "orig_nbformat": 4
 },
 "nbformat": 4,
 "nbformat_minor": 2
}
