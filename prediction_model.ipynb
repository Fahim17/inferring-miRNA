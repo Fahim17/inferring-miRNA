{
 "cells": [
  {
   "cell_type": "code",
   "execution_count": 1,
   "metadata": {},
   "outputs": [],
   "source": [
    "import pandas as pd\n",
    "import numpy as np\n",
    "\n",
    "\n",
    "\n",
    "# from scipy.stats import spearmanr, rankdata\n",
    "# from scipy.spatial.distance import pdist, squareform\n",
    "\n",
    "import matplotlib.pyplot as plt\n",
    "import os\n",
    "from sklearn.model_selection import train_test_split\n",
    "\n",
    "from sklearn.preprocessing import MinMaxScaler\n",
    "\n",
    "import tensorflow as tf\n",
    "from tensorflow import keras\n",
    "\n",
    "from sklearn.model_selection import KFold"
   ]
  },
  {
   "cell_type": "code",
   "execution_count": 2,
   "metadata": {},
   "outputs": [],
   "source": [
    "def load_data(path):\n",
    "\n",
    "    files = os.listdir(f'{path}\\\\img\\\\data\\\\')\n",
    "    image = np.empty((len(files), 50, 50, 1))\n",
    "    sample = []\n",
    "    id = []\n",
    "    for i in range(len(files)):\n",
    "        if files[i].split('.')[1] == 'txt':\n",
    "            id.append(i)\n",
    "            data = pd.read_csv(f'{path}\\\\img\\\\data\\\\{files[i]}', sep='\\t', engine='c', na_values=['na', '-', ''], header=None, index_col=None)\n",
    "            image[i, :, :, 0] = data.values\n",
    "            sample.append(files[i].split('.txt')[0])\n",
    "    image = image[id, :, :, :]\n",
    "\n",
    "    return image"
   ]
  },
  {
   "cell_type": "code",
   "execution_count": 92,
   "metadata": {},
   "outputs": [],
   "source": [
    "# def train_test_data(data_main, test_per = 0.2):\n",
    "#     rand_test_index= np.random.randint(0, data_main.shape[0], np.int64(data_main.shape[0]*test_per))\n",
    "#     test_data = data_main[rand_test_index]\n",
    "#     train_data = np.delete(data_main, rand_test_index, axis = 0)\n",
    "\n",
    "#     return train_data, test_data, rand_test_index\n",
    "\n",
    "\n",
    "# train_data, test_data, test_indx = train_test_data(all_data, test_per=0.1)"
   ]
  },
  {
   "cell_type": "code",
   "execution_count": 3,
   "metadata": {},
   "outputs": [
    {
     "data": {
      "text/plain": [
       "(6002, 50, 50, 1)"
      ]
     },
     "execution_count": 3,
     "metadata": {},
     "output_type": "execute_result"
    }
   ],
   "source": [
    "# data_path = '..\\\\Results\\\\Table_To_Image_Conversion\\\\Test_1\\\\data'\n",
    "data_path = \"D:\\\\Research\\\\data\\\\processed_dataset\" #lab\n",
    "\n",
    "# tissue_type = 'liver'\n",
    "# tissue_type = 'pancreas'\n",
    "# tissue_type = 'kidney'\n",
    "tissue_type = 'heart'\n",
    "# tissue_type = 'brain_myeloid'\n",
    "\n",
    "\n",
    "all_data = load_data(path = f'{data_path}\\\\{tissue_type}')\n",
    "all_data.shape"
   ]
  },
  {
   "cell_type": "code",
   "execution_count": 4,
   "metadata": {},
   "outputs": [],
   "source": [
    "all_data = all_data/255"
   ]
  },
  {
   "cell_type": "code",
   "execution_count": 5,
   "metadata": {},
   "outputs": [
    {
     "data": {
      "text/plain": [
       "(6002, 224)"
      ]
     },
     "execution_count": 5,
     "metadata": {},
     "output_type": "execute_result"
    }
   ],
   "source": [
    "y_target = pd.read_csv(f'{data_path}\\\\{tissue_type}\\\\miRNA_bulk.csv')\n",
    "y_target = y_target.drop('Unnamed: 0',axis=1)\n",
    "\n",
    "y_target = y_target.iloc[:,1:].drop(y_target.index[(y_target.iloc[:,1:].sum(axis = 1) < 10)]).T\n",
    "\n",
    "\n",
    "y_target.shape\n",
    "\n",
    "# y_target = y_target.iloc[:,1:].T\n",
    "# y_target = y_target.values\n",
    "# y_target"
   ]
  },
  {
   "cell_type": "code",
   "execution_count": 6,
   "metadata": {},
   "outputs": [
    {
     "data": {
      "text/plain": [
       "array([[0., 0., 0., ..., 0., 0., 0.],\n",
       "       [0., 0., 0., ..., 0., 0., 0.],\n",
       "       [0., 0., 0., ..., 0., 0., 0.],\n",
       "       ...,\n",
       "       [0., 0., 0., ..., 0., 0., 0.],\n",
       "       [0., 0., 0., ..., 0., 0., 0.],\n",
       "       [0., 0., 0., ..., 0., 0., 0.]])"
      ]
     },
     "execution_count": 6,
     "metadata": {},
     "output_type": "execute_result"
    }
   ],
   "source": [
    "from sklearn import preprocessing\n",
    "\n",
    "y_target = preprocessing.normalize(y_target)\n",
    "y_target\n"
   ]
  },
  {
   "cell_type": "code",
   "execution_count": 124,
   "metadata": {},
   "outputs": [
    {
     "name": "stdout",
     "output_type": "stream",
     "text": [
      "X_train: (5401, 50, 50, 1)\n",
      "X_test: (601, 50, 50, 1)\n",
      "y_train: (5401, 224)\n",
      "y_test: (601, 224)\n"
     ]
    }
   ],
   "source": [
    "# X_train, X_test, y_train, y_test = train_test_split(all_data, y_target, test_size=0.1, random_state=5)\n",
    "\n",
    "# print(f'X_train: {X_train.shape}')\n",
    "# print(f'X_test: {X_test.shape}')\n",
    "# print(f'y_train: {y_train.shape}')\n",
    "# print(f'y_test: {y_test.shape}')\n",
    "\n",
    "\n"
   ]
  },
  {
   "cell_type": "code",
   "execution_count": 98,
   "metadata": {},
   "outputs": [
    {
     "data": {
      "text/plain": [
       "array([[0., 0., 0., ..., 0., 0., 0.],\n",
       "       [0., 0., 0., ..., 0., 0., 0.],\n",
       "       [0., 0., 0., ..., 0., 0., 0.],\n",
       "       ...,\n",
       "       [0., 0., 0., ..., 0., 0., 0.],\n",
       "       [0., 0., 0., ..., 0., 0., 0.],\n",
       "       [0., 0., 0., ..., 0., 0., 0.]])"
      ]
     },
     "execution_count": 98,
     "metadata": {},
     "output_type": "execute_result"
    }
   ],
   "source": [
    "# y_train\n"
   ]
  },
  {
   "cell_type": "code",
   "execution_count": null,
   "metadata": {},
   "outputs": [],
   "source": []
  },
  {
   "cell_type": "code",
   "execution_count": 99,
   "metadata": {},
   "outputs": [],
   "source": [
    "\n",
    "# def runCNN(train_x_input, train_y_input, val_x, val_y, epoch_num = 10, batch_num = 32):\n",
    "# # Define the model\n",
    "#     model = keras.Sequential()\n",
    "\n",
    "#     # Add the layers to the model\n",
    "#     model.add(keras.layers.Conv2D(64, (3, 3), activation='relu', input_shape=(X_train.shape[1], X_train.shape[2], X_train.shape[3])))\n",
    "#     model.add(keras.layers.BatchNormalization())\n",
    "#     model.add(keras.layers.MaxPooling2D(pool_size=(2, 2)))\n",
    "#     model.add(keras.layers.Conv2D(32, (3, 3), activation='relu'))\n",
    "#     model.add(keras.layers.BatchNormalization())\n",
    "#     model.add(keras.layers.MaxPooling2D(pool_size=(2, 2)))\n",
    "#     model.add(keras.layers.Conv2D(16, (3, 3), activation='relu'))\n",
    "#     model.add(keras.layers.BatchNormalization())\n",
    "\n",
    "#     # Flatten the output before passing it to the fully connected layers\n",
    "#     model.add(keras.layers.Flatten())\n",
    "\n",
    "#     # Add fully connected layers\n",
    "#     model.add(keras.layers.Dense(128, activation='relu'))\n",
    "#     model.add(keras.layers.Dense(64, activation='relu'))\n",
    "#     model.add(keras.layers.Dense(train_y_input.shape[1], activation='softmax'))\n",
    "\n",
    "#     # Compile the model\n",
    "#     model.compile(optimizer='Adam',\n",
    "#                 loss='mse',\n",
    "#                 metrics=['accuracy'])\n",
    "\n",
    "#     # Print the model summary\n",
    "#     print(model.summary())\n",
    "\n",
    "#     history = model.fit(train_x_input, train_y_input, epochs=epoch_num, batch_size=batch_num, validation_data = (val_x, val_y))\n",
    "\n",
    "#     return model, history\n"
   ]
  },
  {
   "cell_type": "code",
   "execution_count": 7,
   "metadata": {},
   "outputs": [],
   "source": [
    "def plot_history(his, tissue_type = ''):\n",
    "    plt.plot(his.history['accuracy'])\n",
    "    plt.plot(his.history['val_accuracy'])\n",
    "    plt.title(f'Model Accuracy: {tissue_type}')\n",
    "    plt.xlabel('Epoch')\n",
    "    plt.ylabel('Accuracy')\n",
    "    plt.legend(['Train', 'Validation'], loc='upper left')\n",
    "    plt.show()\n",
    "\n",
    "    plt.plot(his.history['loss'])\n",
    "    plt.plot(his.history['val_loss'])\n",
    "    plt.title(f'Model Loss: {tissue_type}')\n",
    "    plt.xlabel('Epoch')\n",
    "    plt.ylabel('Loss')\n",
    "    plt.legend(['Train', 'Validation'], loc='upper left')\n",
    "    plt.show()\n"
   ]
  },
  {
   "cell_type": "code",
   "execution_count": 9,
   "metadata": {},
   "outputs": [
    {
     "name": "stdout",
     "output_type": "stream",
     "text": [
      "Model: \"sequential_1\"\n",
      "_________________________________________________________________\n",
      " Layer (type)                Output Shape              Param #   \n",
      "=================================================================\n",
      " conv2d (Conv2D)             (None, 48, 48, 64)        640       \n",
      "                                                                 \n",
      " batch_normalization (BatchN  (None, 48, 48, 64)       256       \n",
      " ormalization)                                                   \n",
      "                                                                 \n",
      " max_pooling2d (MaxPooling2D  (None, 24, 24, 64)       0         \n",
      " )                                                               \n",
      "                                                                 \n",
      " conv2d_1 (Conv2D)           (None, 22, 22, 32)        18464     \n",
      "                                                                 \n",
      " batch_normalization_1 (Batc  (None, 22, 22, 32)       128       \n",
      " hNormalization)                                                 \n",
      "                                                                 \n",
      " max_pooling2d_1 (MaxPooling  (None, 11, 11, 32)       0         \n",
      " 2D)                                                             \n",
      "                                                                 \n",
      " conv2d_2 (Conv2D)           (None, 9, 9, 16)          4624      \n",
      "                                                                 \n",
      " batch_normalization_2 (Batc  (None, 9, 9, 16)         64        \n",
      " hNormalization)                                                 \n",
      "                                                                 \n",
      " flatten (Flatten)           (None, 1296)              0         \n",
      "                                                                 \n",
      " dense (Dense)               (None, 128)               166016    \n",
      "                                                                 \n",
      " dense_1 (Dense)             (None, 64)                8256      \n",
      "                                                                 \n",
      " dense_2 (Dense)             (None, 224)               14560     \n",
      "                                                                 \n",
      "=================================================================\n",
      "Total params: 213,008\n",
      "Trainable params: 212,784\n",
      "Non-trainable params: 224\n",
      "_________________________________________________________________\n",
      "None\n"
     ]
    }
   ],
   "source": [
    "model = keras.Sequential()\n",
    "\n",
    "# Add the layers to the model\n",
    "model.add(keras.layers.Conv2D(64, (3, 3), activation='relu', input_shape=(all_data.shape[1], all_data.shape[2], all_data.shape[3])))\n",
    "model.add(keras.layers.BatchNormalization())\n",
    "model.add(keras.layers.MaxPooling2D(pool_size=(2, 2)))\n",
    "model.add(keras.layers.Conv2D(32, (3, 3), activation='relu'))\n",
    "model.add(keras.layers.BatchNormalization())\n",
    "model.add(keras.layers.MaxPooling2D(pool_size=(2, 2)))\n",
    "model.add(keras.layers.Conv2D(16, (3, 3), activation='relu'))\n",
    "model.add(keras.layers.BatchNormalization())\n",
    "\n",
    "# Flatten the output before passing it to the fully connected layers\n",
    "model.add(keras.layers.Flatten())\n",
    "\n",
    "# Add fully connected layers\n",
    "model.add(keras.layers.Dense(128, activation='relu'))\n",
    "model.add(keras.layers.Dense(64, activation='relu'))\n",
    "model.add(keras.layers.Dense(y_target.shape[1], activation='softmax'))\n",
    "\n",
    "# Compile the model\n",
    "model.compile(optimizer='Adam',\n",
    "            loss='mse',\n",
    "            metrics=['accuracy'])\n",
    "\n",
    "# Print the model summary\n",
    "print(model.summary())\n",
    "\n",
    "\n"
   ]
  },
  {
   "cell_type": "code",
   "execution_count": 89,
   "metadata": {},
   "outputs": [],
   "source": [
    "# model_pan, history_pan = runCNN(train_x_input=X_train, train_y_input=y_train, epoch_num=100, val_x=X_test,  val_y=y_test)"
   ]
  },
  {
   "cell_type": "code",
   "execution_count": 100,
   "metadata": {},
   "outputs": [],
   "source": [
    "# plot_history(history_pan, tissue_type=tissue_type)"
   ]
  },
  {
   "cell_type": "code",
   "execution_count": 11,
   "metadata": {},
   "outputs": [
    {
     "name": "stdout",
     "output_type": "stream",
     "text": [
      "Train: [   1    6    8 ... 5997 5998 6000] | test: [   0    2    3 ... 5995 5999 6001]\n",
      "Epoch 1/10\n",
      "94/94 [==============================] - 3s 25ms/step - loss: 0.0031 - accuracy: 0.1400 - val_loss: 0.0029 - val_accuracy: 0.2026\n",
      "Epoch 2/10\n",
      "94/94 [==============================] - 2s 20ms/step - loss: 0.0029 - accuracy: 0.1766 - val_loss: 0.0028 - val_accuracy: 0.2026\n",
      "Epoch 3/10\n",
      "94/94 [==============================] - 3s 31ms/step - loss: 0.0028 - accuracy: 0.1953 - val_loss: 0.0032 - val_accuracy: 0.1539\n",
      "Epoch 4/10\n",
      "94/94 [==============================] - 2s 22ms/step - loss: 0.0026 - accuracy: 0.2233 - val_loss: 0.0032 - val_accuracy: 0.1036\n",
      "Epoch 5/10\n",
      "94/94 [==============================] - 2s 20ms/step - loss: 0.0025 - accuracy: 0.2616 - val_loss: 0.0032 - val_accuracy: 0.2019\n",
      "Epoch 6/10\n",
      "94/94 [==============================] - 2s 19ms/step - loss: 0.0023 - accuracy: 0.3039 - val_loss: 0.0031 - val_accuracy: 0.1949\n",
      "Epoch 7/10\n",
      "94/94 [==============================] - 2s 20ms/step - loss: 0.0021 - accuracy: 0.3346 - val_loss: 0.0032 - val_accuracy: 0.1063\n",
      "Epoch 8/10\n",
      "94/94 [==============================] - 2s 20ms/step - loss: 0.0020 - accuracy: 0.3602 - val_loss: 0.0043 - val_accuracy: 0.1963\n",
      "Epoch 9/10\n",
      "94/94 [==============================] - 2s 20ms/step - loss: 0.0019 - accuracy: 0.3789 - val_loss: 0.0032 - val_accuracy: 0.1250\n",
      "Epoch 10/10\n",
      "94/94 [==============================] - 2s 20ms/step - loss: 0.0018 - accuracy: 0.3939 - val_loss: 0.0031 - val_accuracy: 0.1629\n",
      "94/94 [==============================] - 0s 5ms/step - loss: 0.0031 - accuracy: 0.1629\n",
      "Train: [   0    2    3 ... 5995 5999 6001] | test: [   1    6    8 ... 5997 5998 6000]\n",
      "Epoch 1/10\n",
      "94/94 [==============================] - 2s 20ms/step - loss: 0.0030 - accuracy: 0.1769 - val_loss: 0.0041 - val_accuracy: 0.1736\n",
      "Epoch 2/10\n",
      "94/94 [==============================] - 2s 22ms/step - loss: 0.0027 - accuracy: 0.2129 - val_loss: 0.0030 - val_accuracy: 0.1733\n",
      "Epoch 3/10\n",
      "94/94 [==============================] - 2s 21ms/step - loss: 0.0025 - accuracy: 0.2516 - val_loss: 0.0031 - val_accuracy: 0.1756\n",
      "Epoch 4/10\n",
      "94/94 [==============================] - 2s 20ms/step - loss: 0.0023 - accuracy: 0.2996 - val_loss: 0.0030 - val_accuracy: 0.1443\n",
      "Epoch 5/10\n",
      "94/94 [==============================] - 2s 20ms/step - loss: 0.0021 - accuracy: 0.3362 - val_loss: 0.0031 - val_accuracy: 0.1816\n",
      "Epoch 6/10\n",
      "94/94 [==============================] - 2s 20ms/step - loss: 0.0019 - accuracy: 0.3709 - val_loss: 0.0031 - val_accuracy: 0.1046\n",
      "Epoch 7/10\n",
      "94/94 [==============================] - 2s 20ms/step - loss: 0.0018 - accuracy: 0.3989 - val_loss: 0.0029 - val_accuracy: 0.1876\n",
      "Epoch 8/10\n",
      "94/94 [==============================] - 2s 20ms/step - loss: 0.0017 - accuracy: 0.4169 - val_loss: 0.0038 - val_accuracy: 0.1873\n",
      "Epoch 9/10\n",
      "94/94 [==============================] - 2s 20ms/step - loss: 0.0016 - accuracy: 0.4315 - val_loss: 0.0031 - val_accuracy: 0.1673\n",
      "Epoch 10/10\n",
      "94/94 [==============================] - 2s 21ms/step - loss: 0.0015 - accuracy: 0.4435 - val_loss: 0.0031 - val_accuracy: 0.1093\n",
      "94/94 [==============================] - 1s 6ms/step - loss: 0.0031 - accuracy: 0.1093\n"
     ]
    }
   ],
   "source": [
    "num_folds = 5\n",
    "fold_scores = []\n",
    "epoch_num = 10\n",
    "batch_num = 32\n",
    "\n",
    "kfold = KFold(n_splits=num_folds, shuffle=True)\n",
    "\n",
    "\n",
    "\n",
    "for train_indices, test_indices in kfold.split(all_data):\n",
    "    print('Train: %s | test: %s' % (train_indices, test_indices))\n",
    "\n",
    "\n",
    "    X_train, X_val = all_data[train_indices], all_data[test_indices]\n",
    "    y_train, y_val = y_target[train_indices], y_target[test_indices]\n",
    "\n",
    "    history = model.fit(X_train, y_train, epochs=epoch_num, batch_size=batch_num, validation_data = (X_val, y_val))\n",
    "\n",
    "    _, score = model.evaluate(X_val, y_val)\n",
    "    fold_scores.append(score)\n"
   ]
  },
  {
   "cell_type": "code",
   "execution_count": 12,
   "metadata": {},
   "outputs": [
    {
     "data": {
      "text/plain": [
       "[0.1629456877708435, 0.10929690301418304]"
      ]
     },
     "execution_count": 12,
     "metadata": {},
     "output_type": "execute_result"
    }
   ],
   "source": [
    "fold_scores"
   ]
  },
  {
   "cell_type": "code",
   "execution_count": null,
   "metadata": {},
   "outputs": [],
   "source": []
  }
 ],
 "metadata": {
  "kernelspec": {
   "display_name": "base",
   "language": "python",
   "name": "python3"
  },
  "language_info": {
   "codemirror_mode": {
    "name": "ipython",
    "version": 3
   },
   "file_extension": ".py",
   "mimetype": "text/x-python",
   "name": "python",
   "nbconvert_exporter": "python",
   "pygments_lexer": "ipython3",
   "version": "3.9.13"
  },
  "orig_nbformat": 4
 },
 "nbformat": 4,
 "nbformat_minor": 2
}
