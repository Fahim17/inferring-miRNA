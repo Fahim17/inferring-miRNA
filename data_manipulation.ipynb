{
 "cells": [
  {
   "cell_type": "code",
   "execution_count": 22,
   "metadata": {},
   "outputs": [],
   "source": [
    "import pandas as pd"
   ]
  },
  {
   "cell_type": "code",
   "execution_count": 23,
   "metadata": {},
   "outputs": [],
   "source": [
    "df = pd.read_csv('F:\\\\Academic\\\\Research\\\\alpha\\\\data_primary\\\\FACS\\\\Liver-counts.csv')"
   ]
  },
  {
   "cell_type": "code",
   "execution_count": 24,
   "metadata": {},
   "outputs": [],
   "source": [
    "df = df.rename({'Unnamed: 0': 'gene_name'}, axis=1) # rename 1st column\n",
    "# new_df.set_index('gene_name') # change index \n"
   ]
  },
  {
   "cell_type": "code",
   "execution_count": 25,
   "metadata": {},
   "outputs": [],
   "source": [
    "singleGeneAmountThreshold = 5\n",
    "new_df = df.drop(df.index[(df.iloc[:,1:].sum(axis = 1) < singleGeneAmountThreshold)]) # remove all that has 0 value in all column\n",
    "new_df.reset_index(drop=True, inplace=True) # resetting all index"
   ]
  },
  {
   "cell_type": "code",
   "execution_count": 67,
   "metadata": {},
   "outputs": [
    {
     "name": "stdout",
     "output_type": "stream",
     "text": [
      "total number of microRNAs count, <built-in method count of list object at 0x000001E870E6EFC0> for 5 single Gene Amount Threshold!\n"
     ]
    }
   ],
   "source": [
    "geneIndexs = []\n",
    "miGeneCount = 0\n",
    "\n",
    "\n",
    "for i in range(new_df.gene_name.size):\n",
    "    if(new_df.gene_name[i][:3] == 'Mir'):\n",
    "        geneIndexs.append(i)\n",
    "\n",
    "\n",
    "print(f\"total number of microRNAs count: {len(geneIndexs)}\")\n",
    "print(f\"single gene total amount threshold: {singleGeneAmountThreshold}\")"
   ]
  },
  {
   "cell_type": "code",
   "execution_count": 61,
   "metadata": {},
   "outputs": [
    {
     "data": {
      "text/plain": [
       "8900           Mip\n",
       "8901         Mipep\n",
       "8902        Mipol1\n",
       "8903        Mir100\n",
       "8904        Mir107\n",
       "           ...    \n",
       "9015      Mirlet7d\n",
       "9016    Mirlet7f-1\n",
       "9017      Mirlet7g\n",
       "9018         Mis12\n",
       "9019      Mis18bp1\n",
       "Name: gene_name, Length: 120, dtype: object"
      ]
     },
     "execution_count": 61,
     "metadata": {},
     "output_type": "execute_result"
    }
   ],
   "source": []
  },
  {
   "cell_type": "code",
   "execution_count": 70,
   "metadata": {},
   "outputs": [
    {
     "name": "stdout",
     "output_type": "stream",
     "text": [
      "total number of microRNAs count :115\n",
      "single gene total amount threshold: 5 \n"
     ]
    }
   ],
   "source": []
  },
  {
   "cell_type": "code",
   "execution_count": null,
   "metadata": {},
   "outputs": [],
   "source": []
  }
 ],
 "metadata": {
  "kernelspec": {
   "display_name": "base",
   "language": "python",
   "name": "python3"
  },
  "language_info": {
   "codemirror_mode": {
    "name": "ipython",
    "version": 3
   },
   "file_extension": ".py",
   "mimetype": "text/x-python",
   "name": "python",
   "nbconvert_exporter": "python",
   "pygments_lexer": "ipython3",
   "version": "3.9.13"
  },
  "orig_nbformat": 4,
  "vscode": {
   "interpreter": {
    "hash": "605b81c426ce80d1d018858eaeeb7295f187a8cf92bcf8f5f13d13c4792f3f56"
   }
  }
 },
 "nbformat": 4,
 "nbformat_minor": 2
}
