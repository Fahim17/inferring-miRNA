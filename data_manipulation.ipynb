{
 "cells": [
  {
   "cell_type": "code",
   "execution_count": 22,
   "metadata": {},
   "outputs": [],
   "source": [
    "import pandas as pd"
   ]
  },
  {
   "cell_type": "code",
   "execution_count": 23,
   "metadata": {},
   "outputs": [],
   "source": [
    "df = pd.read_csv('F:\\\\Academic\\\\Research\\\\alpha\\\\data_primary\\\\FACS\\\\Liver-counts.csv')"
   ]
  },
  {
   "cell_type": "code",
   "execution_count": 24,
   "metadata": {},
   "outputs": [],
   "source": [
    "df = df.rename({'Unnamed: 0': 'gene_name'}, axis=1) # rename 1st column\n",
    "# new_df.set_index('gene_name') # change index \n"
   ]
  },
  {
   "cell_type": "code",
   "execution_count": 25,
   "metadata": {},
   "outputs": [],
   "source": [
    "new_df = df.drop(df.index[(df.iloc[:,1:].sum(axis = 1) < 5)]) # remove all that has 0 value in all column\n",
    "new_df.reset_index(drop=True, inplace=True) # resetting all index"
   ]
  },
  {
   "cell_type": "code",
   "execution_count": 41,
   "metadata": {},
   "outputs": [],
   "source": [
    "geneIndex = []\n",
    "miGeneCount = 0\n",
    "\n",
    "\n",
    "for i in range(new_df.gene_name.size):\n",
    "    if(new_df.gene_name[i][:3] == 'Mir'):\n",
    "        miGeneCount+=1\n",
    "\n",
    "# new_df.gene_name[13245][:3]\n"
   ]
  },
  {
   "cell_type": "code",
   "execution_count": 42,
   "metadata": {},
   "outputs": [
    {
     "data": {
      "text/plain": [
       "115"
      ]
     },
     "execution_count": 42,
     "metadata": {},
     "output_type": "execute_result"
    }
   ],
   "source": [
    "miGeneCount"
   ]
  },
  {
   "cell_type": "code",
   "execution_count": 36,
   "metadata": {},
   "outputs": [],
   "source": []
  },
  {
   "cell_type": "code",
   "execution_count": null,
   "metadata": {},
   "outputs": [],
   "source": []
  }
 ],
 "metadata": {
  "kernelspec": {
   "display_name": "base",
   "language": "python",
   "name": "python3"
  },
  "language_info": {
   "codemirror_mode": {
    "name": "ipython",
    "version": 3
   },
   "file_extension": ".py",
   "mimetype": "text/x-python",
   "name": "python",
   "nbconvert_exporter": "python",
   "pygments_lexer": "ipython3",
   "version": "3.9.13"
  },
  "orig_nbformat": 4,
  "vscode": {
   "interpreter": {
    "hash": "605b81c426ce80d1d018858eaeeb7295f187a8cf92bcf8f5f13d13c4792f3f56"
   }
  }
 },
 "nbformat": 4,
 "nbformat_minor": 2
}
