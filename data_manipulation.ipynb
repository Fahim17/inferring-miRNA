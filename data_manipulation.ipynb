{
 "cells": [
  {
   "cell_type": "code",
   "execution_count": 22,
   "metadata": {},
   "outputs": [],
   "source": [
    "import pandas as pd"
   ]
  },
  {
   "cell_type": "code",
   "execution_count": 23,
   "metadata": {},
   "outputs": [],
   "source": [
    "df = pd.read_csv('F:\\\\Academic\\\\Research\\\\alpha\\\\data_primary\\\\FACS\\\\Liver-counts.csv')"
   ]
  },
  {
   "cell_type": "code",
   "execution_count": 24,
   "metadata": {},
   "outputs": [],
   "source": [
    "df = df.rename({'Unnamed: 0': 'gene_name'}, axis=1) # rename 1st column\n",
    "# new_df.set_index('gene_name') # change index \n"
   ]
  },
  {
   "cell_type": "code",
   "execution_count": 25,
   "metadata": {},
   "outputs": [],
   "source": [
    "singleGeneAmountThreshold = 5\n",
    "new_df = df.drop(df.index[(df.iloc[:,1:].sum(axis = 1) < singleGeneAmountThreshold)]) # remove all that has 0 value in all column\n",
    "new_df.reset_index(drop=True, inplace=True) # resetting all index"
   ]
  },
  {
   "cell_type": "code",
   "execution_count": 67,
   "metadata": {},
   "outputs": [
    {
     "name": "stdout",
     "output_type": "stream",
     "text": [
      "total number of microRNAs count, <built-in method count of list object at 0x000001E870E6EFC0> for 5 single Gene Amount Threshold!\n"
     ]
    }
   ],
   "source": [
    "geneIndexs = []\n",
    "miGeneCount = 0\n",
    "\n",
    "\n",
    "for i in range(new_df.gene_name.size):\n",
    "    if(new_df.gene_name[i][:3] == 'Mir'):\n",
    "        geneIndexs.append(i)\n",
    "\n",
    "\n",
    "print(f\"total number of microRNAs count: {len(geneIndexs)}\")\n",
    "print(f\"single gene total amount threshold: {singleGeneAmountThreshold}\")"
   ]
  },
  {
   "cell_type": "code",
   "execution_count": 72,
   "metadata": {},
   "outputs": [
    {
     "data": {
      "text/plain": [
       "[8903,\n",
       " 8904,\n",
       " 8905,\n",
       " 8906,\n",
       " 8907,\n",
       " 8908,\n",
       " 8909,\n",
       " 8910,\n",
       " 8911,\n",
       " 8912,\n",
       " 8913,\n",
       " 8914,\n",
       " 8915,\n",
       " 8916,\n",
       " 8917,\n",
       " 8918,\n",
       " 8919,\n",
       " 8920,\n",
       " 8921,\n",
       " 8922,\n",
       " 8923,\n",
       " 8924,\n",
       " 8925,\n",
       " 8926,\n",
       " 8927,\n",
       " 8928,\n",
       " 8929,\n",
       " 8930,\n",
       " 8931,\n",
       " 8932,\n",
       " 8933,\n",
       " 8934,\n",
       " 8935,\n",
       " 8936,\n",
       " 8937,\n",
       " 8938,\n",
       " 8939,\n",
       " 8940,\n",
       " 8941,\n",
       " 8942,\n",
       " 8943,\n",
       " 8944,\n",
       " 8945,\n",
       " 8946,\n",
       " 8947,\n",
       " 8948,\n",
       " 8949,\n",
       " 8950,\n",
       " 8951,\n",
       " 8952,\n",
       " 8953,\n",
       " 8954,\n",
       " 8955,\n",
       " 8956,\n",
       " 8957,\n",
       " 8958,\n",
       " 8959,\n",
       " 8960,\n",
       " 8961,\n",
       " 8962,\n",
       " 8963,\n",
       " 8964,\n",
       " 8965,\n",
       " 8966,\n",
       " 8967,\n",
       " 8968,\n",
       " 8969,\n",
       " 8970,\n",
       " 8971,\n",
       " 8972,\n",
       " 8973,\n",
       " 8974,\n",
       " 8975,\n",
       " 8976,\n",
       " 8977,\n",
       " 8978,\n",
       " 8979,\n",
       " 8980,\n",
       " 8981,\n",
       " 8982,\n",
       " 8983,\n",
       " 8984,\n",
       " 8985,\n",
       " 8986,\n",
       " 8987,\n",
       " 8988,\n",
       " 8989,\n",
       " 8990,\n",
       " 8991,\n",
       " 8992,\n",
       " 8993,\n",
       " 8994,\n",
       " 8995,\n",
       " 8996,\n",
       " 8997,\n",
       " 8998,\n",
       " 8999,\n",
       " 9000,\n",
       " 9001,\n",
       " 9002,\n",
       " 9003,\n",
       " 9004,\n",
       " 9005,\n",
       " 9006,\n",
       " 9007,\n",
       " 9008,\n",
       " 9009,\n",
       " 9010,\n",
       " 9011,\n",
       " 9012,\n",
       " 9013,\n",
       " 9014,\n",
       " 9015,\n",
       " 9016,\n",
       " 9017]"
      ]
     },
     "execution_count": 72,
     "metadata": {},
     "output_type": "execute_result"
    }
   ],
   "source": [
    "geneIndexs"
   ]
  },
  {
   "cell_type": "code",
   "execution_count": 70,
   "metadata": {},
   "outputs": [
    {
     "name": "stdout",
     "output_type": "stream",
     "text": [
      "total number of microRNAs count :115\n",
      "single gene total amount threshold: 5 \n"
     ]
    }
   ],
   "source": []
  },
  {
   "cell_type": "code",
   "execution_count": null,
   "metadata": {},
   "outputs": [],
   "source": []
  }
 ],
 "metadata": {
  "kernelspec": {
   "display_name": "base",
   "language": "python",
   "name": "python3"
  },
  "language_info": {
   "codemirror_mode": {
    "name": "ipython",
    "version": 3
   },
   "file_extension": ".py",
   "mimetype": "text/x-python",
   "name": "python",
   "nbconvert_exporter": "python",
   "pygments_lexer": "ipython3",
   "version": "3.9.13"
  },
  "orig_nbformat": 4,
  "vscode": {
   "interpreter": {
    "hash": "605b81c426ce80d1d018858eaeeb7295f187a8cf92bcf8f5f13d13c4792f3f56"
   }
  }
 },
 "nbformat": 4,
 "nbformat_minor": 2
}
